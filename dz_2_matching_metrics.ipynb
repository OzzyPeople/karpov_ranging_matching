{
 "cells": [
  {
   "cell_type": "code",
   "execution_count": 1,
   "metadata": {},
   "outputs": [],
   "source": [
    "import torch"
   ]
  },
  {
   "cell_type": "code",
   "execution_count": 2,
   "metadata": {},
   "outputs": [],
   "source": [
    "import math\n",
    "from typing import List, Optional, Union"
   ]
  },
  {
   "cell_type": "markdown",
   "metadata": {},
   "source": [
    "## 1 num_swapped_pairs \n",
    "\n",
    "функция для расчёта количества неправильно упорядоченных пар (корректное упорядочивание - от наибольшего значения в ys_true к меньшему), или переставленных пар . Не забудьте, что одну и ту же пару не нужно учитывать дважды. "
   ]
  },
  {
   "cell_type": "code",
   "execution_count": 3,
   "metadata": {},
   "outputs": [],
   "source": [
    "ys_true = torch.rand(5)\n",
    "ys_pred = torch.rand(5)"
   ]
  },
  {
   "cell_type": "code",
   "execution_count": 4,
   "metadata": {},
   "outputs": [],
   "source": [
    "def num_swapped_pairs (ys_true: torch.Tensor, ys_pred: torch.Tensor):\n",
    "    #сортируем по предсказанию\n",
    "    ys_pred = ys_pred.sort(descending=True)\n",
    "    #берем индексы из предсказания и получаем фактический порядок\n",
    "    ys_true = ys_true[ys_pred.indices]\n",
    "    count = 0\n",
    "    #считаем сколько значений ys_true стоят неправильно (меньше )\n",
    "    for i in range(len(ys_true )):\n",
    "        for j in range(i, len(ys_true )):\n",
    "            if ys_true [i] < ys_true [j]:\n",
    "                count += 1\n",
    "    return count"
   ]
  },
  {
   "cell_type": "code",
   "execution_count": 6,
   "metadata": {},
   "outputs": [
    {
     "data": {
      "text/plain": [
       "2"
      ]
     },
     "execution_count": 6,
     "metadata": {},
     "output_type": "execute_result"
    }
   ],
   "source": [
    "num_swapped_pairs_m(ys_true, ys_pred)"
   ]
  },
  {
   "cell_type": "markdown",
   "metadata": {},
   "source": [
    "## 2 compute_gain \n",
    "\n",
    "compute_gain - вспомогательная функция для расчёта DCG  и NDCG, рассчитывающая показатель gain. Принимает на вход дополнительный аргумент - указание схемы начисления gain (gain_scheme).\n",
    "\n",
    "В лекции был приведен пример константного начисления, равного в точности оценке релевантности. Необходимо реализовать как этот метод (при gain_scheme=\"const\") начисления gain, так и экспоненциальный (gain_scheme=\"exp2\"), рассчитываемый по формуле (2 \n",
    "r−1), где r - реальная релевантность документа некоторому запросу. Логика здесь такова, что чем выше релевантность, тем ценнее объект, и темп роста “ценности\" нелинеен - гораздо важнее отделить документ с релевантностью 5 от документа с релевантностью 3, нежели 3 от 1 (ведь они оба мало релевантны).\n",
    "\n",
    "Функция принимает на вход единственное число (не тензор).\n",
    "\n",
    "\n",
    "dcg  и ndcg -  функции расчета DCG и NDCG соответственно. Принимают на вход дополнительный параметр gain_scheme, аналогичный таковому в функции compute_gain (её необходимо использовать при расчетах этих метрик). Для NDCG разрешается переиспользовать функцию расчёта DCG. Для совпадения ответа с системой оценки рекомендуется использовать логарифм из модуля math."
   ]
  },
  {
   "cell_type": "code",
   "execution_count": 7,
   "metadata": {},
   "outputs": [],
   "source": [
    "def compute_gain (y_value: float, gain_scheme=\"const\"):\n",
    "    if gain_scheme==\"const\":\n",
    "        d = y_value\n",
    "    elif gain_scheme==\"exp2\":\n",
    "        d = 2**y_value - 1\n",
    "    return d"
   ]
  },
  {
   "cell_type": "code",
   "execution_count": 8,
   "metadata": {},
   "outputs": [
    {
     "data": {
      "text/plain": [
       "0.3"
      ]
     },
     "execution_count": 8,
     "metadata": {},
     "output_type": "execute_result"
    }
   ],
   "source": [
    "compute_gain( 0.3, gain_scheme=\"const\")"
   ]
  },
  {
   "cell_type": "code",
   "execution_count": 9,
   "metadata": {},
   "outputs": [
    {
     "data": {
      "text/plain": [
       "0.2311444133449163"
      ]
     },
     "execution_count": 9,
     "metadata": {},
     "output_type": "execute_result"
    }
   ],
   "source": [
    "compute_gain ( 0.3, gain_scheme=\"exp2\")"
   ]
  },
  {
   "cell_type": "code",
   "execution_count": 10,
   "metadata": {},
   "outputs": [
    {
     "data": {
      "text/plain": [
       "0.2311444133449163"
      ]
     },
     "execution_count": 10,
     "metadata": {},
     "output_type": "execute_result"
    }
   ],
   "source": [
    "compute_gain ( 0.3, \"exp2\")"
   ]
  },
  {
   "cell_type": "markdown",
   "metadata": {},
   "source": [
    "## 3 dcg\n",
    "\n",
    "dcg  и ndcg -  функции расчета DCG и NDCG соответственно. Принимают на вход дополнительный параметр gain_scheme, аналогичный таковому в функции compute_gain (её необходимо использовать при расчетах этих метрик).\n",
    "\n",
    "\n",
    "Для NDCG разрешается переиспользовать функцию расчёта DCG. Для совпадения ответа с системой оценки рекомендуется использовать логарифм из модуля math."
   ]
  },
  {
   "cell_type": "code",
   "execution_count": 11,
   "metadata": {},
   "outputs": [],
   "source": [
    "def dcg (ys_true: torch.Tensor, ys_pred: torch.Tensor, gain_scheme: str):\n",
    "    ## сортировка y_true по y_pred\n",
    "    ys_true = ys_true[ys_pred.sort(descending=True).indices].double()\n",
    "    ## значение предикт остортированные по y_true \n",
    "    if gain_scheme == \"const\":\n",
    "        gain = torch.Tensor([compute_gain(x, \"const\") for x in ys_true]).double()\n",
    "    elif gain_scheme == \"exp2\":\n",
    "        gain = torch.Tensor([compute_gain(x, \"exp2\") for x in ys_true]).double()\n",
    "    discount = torch.Tensor ([math.log(x, 2) for x in torch.arange(len(ys_true))+2]).double()\n",
    "    res = sum(gain/discount)\n",
    "    return  res"
   ]
  },
  {
   "cell_type": "code",
   "execution_count": 12,
   "metadata": {},
   "outputs": [],
   "source": [
    "def ndcg (ys_true: torch.Tensor, ys_pred: torch.Tensor, gain_scheme: str):\n",
    "    dcg_1 = dcg (ys_true, ys_pred, gain_scheme)\n",
    "    ## идеальное расположение текущих \n",
    "    ys_true = ys_true.sort(descending=True).values.double()\n",
    "    ## значение предикт остортированные по y_true \n",
    "    if gain_scheme == \"const\":\n",
    "        gain = torch.Tensor([compute_gain(x, \"const\") for x in ys_true]).double()\n",
    "    elif gain_scheme == \"exp2\":\n",
    "        gain = torch.Tensor([compute_gain(x, \"exp2\") for x in ys_true]).double()\n",
    "        \n",
    "    discount = torch.Tensor ([math.log(x, 2) for x in torch.arange(len(ys_true))+2]).double()\n",
    "    res = sum(gain/discount)\n",
    "    return  dcg_1 / res"
   ]
  },
  {
   "cell_type": "markdown",
   "metadata": {},
   "source": [
    "## precission_at_k \n",
    "\n",
    "функция расчёта точности в топ-k позиций для бинарной разметки (в ys_true содержатся только нули и единицы). Если среди лейблов нет ни одного релевантного документа (единицы), то нужно вернуть -1. \n",
    "\n",
    "Функция принимает на вход параметр k, указывающий на то, по какому количеству объектов необходимо произвести расчёт метрики. Учтите, что k может быть больше количества элементов во входных тензорах. \n",
    "\n",
    "При реализации precission_at_k необходимо добиться того, что максимум функции в единице был достижим при любом ys_true, за исключением не содержащего единиц. В силу этой особенности не рекомендуется переиспользовать имплементацию precission_at_k в других метриках настоящего ДЗ."
   ]
  },
  {
   "cell_type": "code",
   "execution_count": 13,
   "metadata": {},
   "outputs": [
    {
     "data": {
      "text/plain": [
       "tensor([1., 0., 1., 1., 0., 0., 0., 0., 0.])"
      ]
     },
     "execution_count": 13,
     "metadata": {},
     "output_type": "execute_result"
    }
   ],
   "source": [
    "ys_true = torch.Tensor([1, 0, 1, 1, 0, 0, 0, 0, 0])\n",
    "ys_true"
   ]
  },
  {
   "cell_type": "code",
   "execution_count": 14,
   "metadata": {},
   "outputs": [
    {
     "data": {
      "text/plain": [
       "tensor([0.1125, 0.6432, 0.5977, 0.0965, 0.9104, 0.0099, 0.8463, 0.6246, 0.8025])"
      ]
     },
     "execution_count": 14,
     "metadata": {},
     "output_type": "execute_result"
    }
   ],
   "source": [
    "ys_pred = torch.rand(9)\n",
    "ys_pred"
   ]
  },
  {
   "cell_type": "code",
   "execution_count": 15,
   "metadata": {},
   "outputs": [],
   "source": [
    "def precission_at_k(ys_true: torch.Tensor, ys_pred: torch.Tensor, k: int) -> float:\n",
    "    #если нет истинных релевантных объектов (1)\n",
    "    if ys_true.sum() == 0:\n",
    "        return -1\n",
    "    #сортируем все наши предсказания и берем их индексы \n",
    "    _, argsort = torch.sort(ys_pred, descending=True, dim=0)\n",
    "    #сортируем ys_true по индексу ys_pred\n",
    "    ys_true_sorted = ys_true[argsort]\n",
    "    #сколько у нас количество хитов (1) в топ k из истинных объектов\n",
    "    hits = ys_true_sorted[:k].sum()\n",
    "    prec = hits / min(ys_true.sum(), k) #делим на ys_true.sum() если ys_true.sum() < k\n",
    "    #сценарий 1: мы угадали не все единицы, тогда делится на общее количество k (стандартный вариант) - наш порог \n",
    "    #сценарий 2: мы угадали все единицы и дальшее идут одни нули в топ k, то есть ys_true.sum() < k и тогда precision = 1 \n",
    "    return float(prec)"
   ]
  },
  {
   "cell_type": "code",
   "execution_count": 23,
   "metadata": {},
   "outputs": [],
   "source": [
    "_, argsort = torch.sort(ys_pred, descending=True, dim=0)"
   ]
  },
  {
   "cell_type": "code",
   "execution_count": 24,
   "metadata": {},
   "outputs": [
    {
     "data": {
      "text/plain": [
       "tensor([4, 6, 8, 1, 7, 2, 0, 3, 5])"
      ]
     },
     "execution_count": 24,
     "metadata": {},
     "output_type": "execute_result"
    }
   ],
   "source": [
    "argsort"
   ]
  },
  {
   "cell_type": "code",
   "execution_count": 25,
   "metadata": {},
   "outputs": [
    {
     "data": {
      "text/plain": [
       "tensor([0., 0., 0., 0., 0., 1., 1., 1., 0.])"
      ]
     },
     "execution_count": 25,
     "metadata": {},
     "output_type": "execute_result"
    }
   ],
   "source": [
    "ys_true[argsort]"
   ]
  },
  {
   "cell_type": "markdown",
   "metadata": {},
   "source": [
    "## reciprocal_rank \n",
    "\n",
    "функция для расчёта MRR (без усреднения, т.е. для одного запроса и множества документов). В ys_true могут содержаться только нули и максимум одна единица. "
   ]
  },
  {
   "cell_type": "code",
   "execution_count": 63,
   "metadata": {},
   "outputs": [
    {
     "data": {
      "text/plain": [
       "tensor([0., 0., 0., 0., 0., 0., 1., 0., 0.])"
      ]
     },
     "execution_count": 63,
     "metadata": {},
     "output_type": "execute_result"
    }
   ],
   "source": [
    "ys_true = torch.Tensor([0, 0, 0, 0, 0, 0, 1, 0, 0])\n",
    "ys_true"
   ]
  },
  {
   "cell_type": "code",
   "execution_count": 64,
   "metadata": {},
   "outputs": [
    {
     "data": {
      "text/plain": [
       "tensor([0.1830, 0.9609, 0.0061, 0.2294, 0.5985, 0.7781, 0.1065, 0.5801, 0.6598])"
      ]
     },
     "execution_count": 64,
     "metadata": {},
     "output_type": "execute_result"
    }
   ],
   "source": [
    "ys_pred = torch.rand(9)\n",
    "ys_pred"
   ]
  },
  {
   "cell_type": "code",
   "execution_count": 69,
   "metadata": {},
   "outputs": [],
   "source": [
    "def reciprocal_rank(ys_true, ys_pred) -> float:\n",
    "    if ys_true.sum() == 0:\n",
    "        return 0\n",
    "    _, ys_pred_index = torch.sort(ys_pred, descending=True)\n",
    "    ys_true_sorted = ys_true[ys_pred_index]\n",
    "    position = 0\n",
    "    for i in range(len(ys_true_sorted)):\n",
    "        if ys_true_sorted[i] == 1:\n",
    "            position = i + 1\n",
    "    return 1/position"
   ]
  },
  {
   "cell_type": "markdown",
   "metadata": {},
   "source": [
    "## p_found"
   ]
  },
  {
   "cell_type": "markdown",
   "metadata": {},
   "source": [
    "p_found - функция расчета P-found от Яндекса, принимающая на вход дополнительный параметр p_break - вероятность прекращения просмотра списка документов в выдаче. Базовая вероятность просмотреть первый документ в выдаче (pLook[0] в лекции) равняется единице. ys_true нормированы от 0 до 1 (вероятность удовлетворения запроса пользователя). "
   ]
  },
  {
   "cell_type": "code",
   "execution_count": 72,
   "metadata": {},
   "outputs": [],
   "source": [
    "ys_true = torch.Tensor([1, 0, 1, 1, 0])"
   ]
  },
  {
   "cell_type": "code",
   "execution_count": 73,
   "metadata": {},
   "outputs": [],
   "source": [
    "ys_pred = torch.Tensor([0.3, 0.2, 0.5, 0.1, 0.8])"
   ]
  },
  {
   "cell_type": "code",
   "execution_count": 86,
   "metadata": {},
   "outputs": [],
   "source": [
    "def p_found(ys_true: torch.Tensor, ys_pred: torch.Tensor, p_break: float = 0.15 ) -> float:\n",
    "    p_look = 1\n",
    "    p_found = 0\n",
    "    _, argsort = torch.sort(ys_pred, descending=True, dim=0)\n",
    "    ys_true_sorted = ys_true[argsort]\n",
    "\n",
    "    for cur_y in ys_true_sorted:\n",
    "        p_found += p_look * float(cur_y)\n",
    "        p_look = p_look * (1 - float(cur_y)) * (1 - p_break)\n",
    "        print (p_look)\n",
    "    \n",
    "    return p_found"
   ]
  },
  {
   "cell_type": "code",
   "execution_count": 87,
   "metadata": {},
   "outputs": [
    {
     "name": "stdout",
     "output_type": "stream",
     "text": [
      "0.85\n",
      "0.0\n",
      "0.0\n",
      "0.0\n",
      "0.0\n"
     ]
    },
    {
     "data": {
      "text/plain": [
       "0.85"
      ]
     },
     "execution_count": 87,
     "metadata": {},
     "output_type": "execute_result"
    }
   ],
   "source": [
    "p_found(ys_true, ys_pred, 0.15 ) "
   ]
  },
  {
   "cell_type": "markdown",
   "metadata": {},
   "source": [
    "## average_precision "
   ]
  },
  {
   "cell_type": "markdown",
   "metadata": {},
   "source": [
    "Average Precision (AP) показывает, насколько много релевантных объектов сконцентрировано среди самых высокооцененных. Чувствительна к порядку ранжирования в топе."
   ]
  },
  {
   "cell_type": "markdown",
   "metadata": {},
   "source": [
    "average_precision - функция расчета AP для бинарной разметки (в ys_true содержатся только нули и единицы). Если среди лейблов нет ни одного релевантного документа (единицы), то нужно вернуть -1."
   ]
  },
  {
   "cell_type": "code",
   "execution_count": 88,
   "metadata": {},
   "outputs": [],
   "source": [
    "def average_precision(ys_true: torch.Tensor, ys_pred: torch.Tensor) -> float:\n",
    "    if ys_true.sum() == 0:\n",
    "        return -1\n",
    "    _, argsort = torch.sort(ys_pred, descending=True, dim=0)\n",
    "    ys_true_sorted = ys_true[argsort]\n",
    "    rolling_sum = 0\n",
    "    num_correct_ans = 0\n",
    "    \n",
    "    for idx, cur_y in enumerate(ys_true_sorted, start=1):\n",
    "        if cur_y == 1:\n",
    "            num_correct_ans += 1\n",
    "            rolling_sum += num_correct_ans / idx\n",
    "    if num_correct_ans == 0:\n",
    "        return 0\n",
    "    else:\n",
    "        return rolling_sum / num_correct_ans"
   ]
  },
  {
   "cell_type": "code",
   "execution_count": 89,
   "metadata": {},
   "outputs": [
    {
     "data": {
      "text/plain": [
       "0.5888888888888889"
      ]
     },
     "execution_count": 89,
     "metadata": {},
     "output_type": "execute_result"
    }
   ],
   "source": [
    "average_precision(ys_true, ys_pred)"
   ]
  },
  {
   "cell_type": "code",
   "execution_count": null,
   "metadata": {},
   "outputs": [],
   "source": []
  }
 ],
 "metadata": {
  "kernelspec": {
   "display_name": "Python 3",
   "language": "python",
   "name": "python3"
  },
  "language_info": {
   "codemirror_mode": {
    "name": "ipython",
    "version": 3
   },
   "file_extension": ".py",
   "mimetype": "text/x-python",
   "name": "python",
   "nbconvert_exporter": "python",
   "pygments_lexer": "ipython3",
   "version": "3.7.6"
  }
 },
 "nbformat": 4,
 "nbformat_minor": 4
}
